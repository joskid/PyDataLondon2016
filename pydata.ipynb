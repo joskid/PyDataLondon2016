{
 "cells": [
  {
   "cell_type": "markdown",
   "metadata": {
    "slideshow": {
     "slide_type": "slide"
    }
   },
   "source": [
    "<img src=\"images/cardiff.png\" style=\"width: 100px\";>\n",
    "\n",
    "# Using Support Vector Machines in Scikit-Learn to discover genetic aetiologies in Schizophrenia\n",
    "\n",
    "### ... or how the Scikit-Learn and Pandas devs have done about half of my PhD\n",
    "\n",
    "* Tim Vivian-Griffiths\n",
    "* timvg80@gmail.com\n",
    "* @timvg80"
   ]
  },
  {
   "cell_type": "markdown",
   "metadata": {
    "slideshow": {
     "slide_type": "slide"
    }
   },
   "source": [
    "## A personal request"
   ]
  },
  {
   "cell_type": "markdown",
   "metadata": {
    "slideshow": {
     "slide_type": "fragment"
    }
   },
   "source": [
    "<img src=\"images/double_facepalm.jpg\" style=\"width: 700px\";>"
   ]
  },
  {
   "cell_type": "markdown",
   "metadata": {
    "slideshow": {
     "slide_type": "slide"
    }
   },
   "source": [
    "## Schizophrenia\n",
    "\n",
    "* Debilitating psychiatric condition\n",
    "    * Lifetime prevalence rate of 0.7-1%\n",
    "    * Positive Symptoms:\n",
    "        * Delusional thoughts (paranoid)\n",
    "        * Hallucinations across senses\n",
    "    * Negative Symptoms:\n",
    "        * Lack of emotion (apathy)\n",
    "        * Anhedonia - inability to experience pleasure"
   ]
  },
  {
   "cell_type": "markdown",
   "metadata": {
    "slideshow": {
     "slide_type": "slide"
    }
   },
   "source": [
    "## Artwork by a sufferer\n",
    "\n",
    "![](images/schizophrenia_art.jpg)"
   ]
  },
  {
   "cell_type": "markdown",
   "metadata": {
    "slideshow": {
     "slide_type": "slide"
    }
   },
   "source": [
    "## Genetics of Schizophrenia\n",
    "* Small cumulative contributions from whole genome (\"Polygenic\")\n",
    "* __Common mutations of small effect - Single Nucleotide Polymorphism (SNP)__"
   ]
  },
  {
   "cell_type": "markdown",
   "metadata": {
    "slideshow": {
     "slide_type": "fragment"
    }
   },
   "source": [
    "<img src=\"images/snp.png\" style=\"width: 500px\";>\n",
    "* rs4648845 on Chromosome 1:\n",
    "    * TCAGGCGGGGGCAGGAGCAGT<font color='red'>[C/T]</font>AGAAGCTTCAGAGGAGCGGCC\n",
    "* Double Stranded DNA:\n",
    "    * Count per sample {0, 1, 2}\n",
    "    \n",
    "Image: https://wp.nyu.edu/genome_diversityspring2015/?p=108"
   ]
  },
  {
   "cell_type": "markdown",
   "metadata": {
    "slideshow": {
     "slide_type": "slide"
    }
   },
   "source": [
    "## Genome Wide Association Study (GWAS)\n",
    "\n",
    "* Examine counts of minor alleles in cases and controls\n",
    "* Association test (Odds Ratio and p-value from $\\chi^{2}$ test)\n",
    "* __MASSIVE__ need for multiple comparison correction\n",
    "    * Bonferroni correction (1,000,000) $p=5\\times10^{-8}$"
   ]
  },
  {
   "cell_type": "markdown",
   "metadata": {
    "slideshow": {
     "slide_type": "fragment"
    }
   },
   "source": [
    "### Log-Odds Ratio\n",
    "\n",
    "$\\ln\\left(\\frac{1}{2}\\right) = -\\ln(2)$"
   ]
  },
  {
   "cell_type": "markdown",
   "metadata": {
    "slideshow": {
     "slide_type": "slide"
    }
   },
   "source": [
    "## Psychiatric Genetics Consortium 2014 (36,989 Cases, 113,075 Controls)\n",
    "### Ripke et al. _Nature_ Vol 511 p. 421\n",
    "![](images/108_loci.png)"
   ]
  },
  {
   "cell_type": "markdown",
   "metadata": {
    "slideshow": {
     "slide_type": "slide"
    }
   },
   "source": [
    "## Aims of Study\n",
    "### Treatment Resistant Schizophrenia - Receiving Clozapine medication\n",
    "#### 3,446 Cases / 4,285 Controls\n",
    "\n",
    "* Compare performance of Support Vector Machine and traditional scoring methods\n",
    "    * Polygenic Score\n",
    "        * Minor allele count {0, 1, 2} weighted by Log Odds Ratio (LOR)\n",
    "        * Mean of all non-missing values calculated per individual\n",
    "        * Single _risk_ score per person\n",
    "        * Logistic Regression      "
   ]
  },
  {
   "cell_type": "markdown",
   "metadata": {
    "slideshow": {
     "slide_type": "fragment"
    }
   },
   "source": [
    "* Use Linear and non-Linear methods for the Support Vector Machine\n",
    "    * Polynomial Kernel\n",
    "    * Radial Basis Function (RBF) Kernel\n",
    "    \n",
    "Hamshere et al. _Molecular Psychiatry_ (18), 708-712, 2013     "
   ]
  },
  {
   "cell_type": "markdown",
   "metadata": {
    "slideshow": {
     "slide_type": "slide"
    }
   },
   "source": [
    "## Support Vector Machines\n",
    "### Linearly Separable Data\n",
    "<img src=\"images/linear_points.png\" style=\"width: 600px\";>\n",
    "All images adapted from code at http://scikit-learn.org/stable/auto_examples/svm/plot_svm_kernels.html"
   ]
  },
  {
   "cell_type": "markdown",
   "metadata": {
    "slideshow": {
     "slide_type": "slide"
    }
   },
   "source": [
    "## Support Vector Machines\n",
    "### Linearly Separable Data with Boundaries\n",
    "<img src=\"images/linear_points_boundaries.png\" style=\"width: 600px\";>\n"
   ]
  },
  {
   "cell_type": "markdown",
   "metadata": {
    "collapsed": true,
    "slideshow": {
     "slide_type": "notes"
    }
   },
   "source": [
    "* Support Vectors"
   ]
  },
  {
   "cell_type": "markdown",
   "metadata": {
    "slideshow": {
     "slide_type": "slide"
    }
   },
   "source": [
    "## Parameter Selection Unclear Data Point\n",
    "### Unclear Data\n",
    "\n",
    "<img src=\"images/linear_points_unclear.png\" style=\"width: 600px\";>"
   ]
  },
  {
   "cell_type": "markdown",
   "metadata": {
    "slideshow": {
     "slide_type": "slide"
    }
   },
   "source": [
    "## Parameter Selection Unclear Data Point\n",
    "### Unclear Data - C = 100\n",
    "\n",
    "<img src=\"images/unclear_data_boundary_C_100.png\" style=\"width: 600px\";>"
   ]
  },
  {
   "cell_type": "markdown",
   "metadata": {
    "slideshow": {
     "slide_type": "slide"
    }
   },
   "source": [
    "## Parameter Selection Unclear Data Point\n",
    "### Unclear Data - C = 1\n",
    "\n",
    "<img src=\"images/unclear_data_boundary_C_1.png\" style=\"width: 600px\";>"
   ]
  },
  {
   "cell_type": "markdown",
   "metadata": {
    "slideshow": {
     "slide_type": "slide"
    }
   },
   "source": [
    "## Support Vector Machines\n",
    "### Non Linear Data\n",
    "<img src=\"images/xor_points.png\" style=\"width: 600px\";>"
   ]
  },
  {
   "cell_type": "markdown",
   "metadata": {
    "slideshow": {
     "slide_type": "slide"
    }
   },
   "source": [
    "## Support Vector Machines\n",
    "### Non Linear Data - Attempting linear boundary\n",
    "<img src=\"images/linear_xor_points_boundaries.png\" style=\"width: 600px\";>"
   ]
  },
  {
   "cell_type": "markdown",
   "metadata": {
    "slideshow": {
     "slide_type": "slide"
    }
   },
   "source": [
    "## Support Vector Machines\n",
    "### Non Linear Data - Radial Basis Function (RBF) Kernel \n",
    "<img src=\"images/xor_points_boundaries.png\" style=\"width: 600px\";>"
   ]
  },
  {
   "cell_type": "markdown",
   "metadata": {
    "slideshow": {
     "slide_type": "slide"
    }
   },
   "source": [
    "## Support Vector Machines\n",
    "### 3D projection of RBF kernel\n",
    "<img src=\"images/3D_XOR.png\" style=\"width: 600px\";>"
   ]
  },
  {
   "cell_type": "markdown",
   "metadata": {
    "slideshow": {
     "slide_type": "slide"
    }
   },
   "source": [
    "## Inputs for the Machine Learning\n",
    "### Scaling of the inputs\n",
    "\n",
    "* The sign (+ive, -ive) of the LOR provides important information\n",
    "    * Vital for the polygenic score\n",
    "* __BUT__... These allele counts are sparse - they contain 0 values"
   ]
  },
  {
   "cell_type": "markdown",
   "metadata": {
    "slideshow": {
     "slide_type": "fragment"
    }
   },
   "source": [
    "### Linear Kernel\n",
    "$\\langle \\mathbf{x}, \\mathbf{z} \\rangle = (x_{1}z_{1} + x_{2}z_{2})$\n",
    "\n",
    "### Polynomial (Quadratic) Kernel\n",
    "$\\langle \\mathbf{x}, \\mathbf{z} \\rangle^{2} = (x_{1}z_{1} + x_{2}z_{2})^{2} = x_{1}^{2}z_{1}^{2} + x_{2}^{2}z_{2}^{2} + 2x_{1}x_{2}z_{1}z_{2}$\n",
    "\n",
    "### RBF Kernel\n",
    "$\\exp(-\\gamma \\lVert \\mathbf{x} - \\mathbf{z} \\rVert^{2}) = \\exp(-\\gamma \\sqrt{(x_{1}-z_{1})^2 + (x_{2}-z_{2})^{2}})$"
   ]
  },
  {
   "cell_type": "markdown",
   "metadata": {
    "slideshow": {
     "slide_type": "slide"
    }
   },
   "source": [
    "## XOR Example"
   ]
  },
  {
   "cell_type": "code",
   "execution_count": 1,
   "metadata": {
    "collapsed": false,
    "slideshow": {
     "slide_type": "-"
    }
   },
   "outputs": [
    {
     "name": "stdout",
     "output_type": "stream",
     "text": [
      "Inputs:\n",
      "[[ 0.  0.]\n",
      " [ 0.  1.]\n",
      " [ 1.  0.]\n",
      " [ 1.  1.]]\n",
      "\n",
      "Targets\n",
      "[0 1 1 0]\n"
     ]
    }
   ],
   "source": [
    "import numpy as np\n",
    "\n",
    "inputs  = np.array([[0, 0, 1, 1],[0, 1, 0, 1]], dtype=float).T\n",
    "targets = np.array([0, 1, 1, 0])\n",
    "\n",
    "print('Inputs:')\n",
    "print(inputs)\n",
    "print('\\nTargets')\n",
    "print(targets)\n"
   ]
  },
  {
   "cell_type": "markdown",
   "metadata": {
    "slideshow": {
     "slide_type": "slide"
    }
   },
   "source": [
    "## Predicting the non-scaled inputs"
   ]
  },
  {
   "cell_type": "code",
   "execution_count": 2,
   "metadata": {
    "collapsed": false
   },
   "outputs": [
    {
     "name": "stdout",
     "output_type": "stream",
     "text": [
      "Linear Predictions\n",
      "[1 1 1 1]\n",
      "\n",
      "RBF Predictions\n",
      "[0 1 1 0]\n",
      "\n",
      "Polynomial Predictions\n",
      "[1 1 1 0]\n"
     ]
    }
   ],
   "source": [
    "from sklearn.svm import SVC\n",
    "\n",
    "lin_svc  = SVC(kernel='linear')\n",
    "rbf_svc  = SVC(kernel='rbf')\n",
    "poly_svc = SVC(kernel='poly', degree=2)\n",
    "\n",
    "lin_svc.fit(inputs, targets)\n",
    "rbf_svc.fit(inputs, targets)\n",
    "poly_svc.fit(inputs, targets)\n",
    "\n",
    "print('Linear Predictions')\n",
    "print(lin_svc.predict(inputs))\n",
    "print('\\nRBF Predictions')\n",
    "print(rbf_svc.predict(inputs))\n",
    "print('\\nPolynomial Predictions')\n",
    "print(poly_svc.predict(inputs))"
   ]
  },
  {
   "cell_type": "markdown",
   "metadata": {
    "slideshow": {
     "slide_type": "slide"
    }
   },
   "source": [
    "#### Scaling the inputs"
   ]
  },
  {
   "cell_type": "code",
   "execution_count": 3,
   "metadata": {
    "collapsed": false
   },
   "outputs": [
    {
     "name": "stdout",
     "output_type": "stream",
     "text": [
      "Scaled Inputs\n",
      "[[-1. -1.]\n",
      " [-1.  1.]\n",
      " [ 1. -1.]\n",
      " [ 1.  1.]]\n"
     ]
    }
   ],
   "source": [
    "from sklearn.preprocessing import scale\n",
    "scaled_inputs = scale(inputs)\n",
    "print('Scaled Inputs')\n",
    "print(scaled_inputs)"
   ]
  },
  {
   "cell_type": "code",
   "execution_count": 4,
   "metadata": {
    "collapsed": false
   },
   "outputs": [
    {
     "name": "stdout",
     "output_type": "stream",
     "text": [
      "Linear Predictions\n",
      "[1 1 1 1]\n",
      "\n",
      "RBF Predictions\n",
      "[0 1 1 0]\n",
      "\n",
      "Polynomial Predictions\n",
      "[0 1 1 0]\n"
     ]
    }
   ],
   "source": [
    "lin_svc.fit(scaled_inputs, targets)\n",
    "rbf_svc.fit(scaled_inputs, targets)\n",
    "poly_svc.fit(scaled_inputs, targets)\n",
    "print('Linear Predictions')\n",
    "print(lin_svc.predict(scaled_inputs))\n",
    "print('\\nRBF Predictions')\n",
    "print(rbf_svc.predict(scaled_inputs))\n",
    "print('\\nPolynomial Predictions')\n",
    "print(poly_svc.predict(scaled_inputs))"
   ]
  },
  {
   "cell_type": "markdown",
   "metadata": {
    "slideshow": {
     "slide_type": "slide"
    }
   },
   "source": [
    "## Cross Validation Parameter Search\n",
    "\n",
    "![](images/parameter_distributions.png)\n",
    "\n",
    "* Assessed using 4-fold Stratified Cross Validation"
   ]
  },
  {
   "cell_type": "markdown",
   "metadata": {
    "slideshow": {
     "slide_type": "slide"
    }
   },
   "source": [
    "### Running the model"
   ]
  },
  {
   "cell_type": "code",
   "execution_count": null,
   "metadata": {
    "collapsed": true
   },
   "outputs": [],
   "source": [
    "from scipy.stats import expon\n",
    "from sklearn.svm import SVC\n",
    "from sklearn.cross_validation import StratifiedKFold\n",
    "from sklearn.preprocessing import StandardScaler\n",
    "from sklearn.pipeline import Pipeline\n",
    "from sklearn.grid_search import RandomizedSearchCV\n",
    "\n",
    "inputs      = np.load('inputs.csv')\n",
    "targets     = np.load('targets.csv')\n",
    "\n",
    "cv_model    = StratifiedKFold(targets, n_folds=4, shuffle=True, random_state=5)\n",
    "svm         = SVC(kernel=kernel, class_weight='balanced', degree=degree)\n",
    "scaler      = StandardScaler()\n",
    "clf         = Pipeline([('scaler', scaler), ('classification', svm)])\n",
    "\n",
    "if kernel=='linear':\n",
    "    param_dists = {'classification__C':expon(scale=1)}\n",
    "else:\n",
    "    param_dists = {'classification__C':expon(scale=1),\n",
    "                   'classification__gamma':expon(scale=0.01)}\n",
    "\n",
    "if __name__=='__main__':\n",
    "    np.random.seed(12)\n",
    "\n",
    "    random_search = RandomizedSearchCV(clf, param_distributions=param_dists, \n",
    "                                       cv=cv_model, n_iter=100, n_jobs=-1,\n",
    "                                       scoring='roc_auc')\n",
    "    random_search.fit(inputs, targets)"
   ]
  },
  {
   "cell_type": "markdown",
   "metadata": {
    "slideshow": {
     "slide_type": "slide"
    }
   },
   "source": [
    "#### Results - Fixed Parameter Permutations using `cross_val_score(n_jobs=-1)`\n",
    "\n",
    "<img src=\"images/125_GWAS_both_chips_all_algorithms.pdf\" style=\"width: 700px\";>\n",
    "* Extra data from different Chip\n",
    "    * 2,150 Cases\n",
    "    * 2,083 Controls\n",
    "* Simulation studies suggest this is just main effects"
   ]
  },
  {
   "cell_type": "markdown",
   "metadata": {
    "slideshow": {
     "slide_type": "slide"
    }
   },
   "source": [
    "### Results using 4,998 \"sub-threshold\" SNPs\n",
    "\n",
    "<img src=\"images/4998_snps_both_chips_all_algorithms.pdf\" style=\"width: 700px\";>\n",
    "\n",
    "* Can interaction evidence be seen with more samples?"
   ]
  },
  {
   "cell_type": "markdown",
   "metadata": {
    "slideshow": {
     "slide_type": "slide"
    }
   },
   "source": [
    "## Gene Set Analysis\n",
    "#### Pandas does my job for me again..."
   ]
  },
  {
   "cell_type": "code",
   "execution_count": 18,
   "metadata": {
    "collapsed": false
   },
   "outputs": [
    {
     "data": {
      "text/html": [
       "<font size=1.5><table border=\"1\" class=\"dataframe\">\n",
       "  <thead>\n",
       "    <tr style=\"text-align: right;\">\n",
       "      <th></th>\n",
       "      <th>Sample_1</th>\n",
       "      <th>Sample_2</th>\n",
       "      <th>Gene</th>\n",
       "      <th>#ann</th>\n",
       "      <th>pathway_group</th>\n",
       "      <th>SNP</th>\n",
       "    </tr>\n",
       "  </thead>\n",
       "  <tbody>\n",
       "    <tr>\n",
       "      <th>0</th>\n",
       "      <td>0.098271</td>\n",
       "      <td>0.054049</td>\n",
       "      <td>GeneID:85442</td>\n",
       "      <td>FMRP_targets</td>\n",
       "      <td>subcellular_neuronal</td>\n",
       "      <td>chr10_134968968_D</td>\n",
       "    </tr>\n",
       "    <tr>\n",
       "      <th>1</th>\n",
       "      <td>0.033672</td>\n",
       "      <td>0.000000</td>\n",
       "      <td>GeneID:65217</td>\n",
       "      <td>abnormal_motor_capabilities/coordination/movement</td>\n",
       "      <td>behaviour</td>\n",
       "      <td>chr10_55638195_I</td>\n",
       "    </tr>\n",
       "    <tr>\n",
       "      <th>2</th>\n",
       "      <td>0.033672</td>\n",
       "      <td>0.000000</td>\n",
       "      <td>GeneID:65217</td>\n",
       "      <td>abnormal_sensory_capabilities/reflexes/nocicep...</td>\n",
       "      <td>behaviour</td>\n",
       "      <td>chr10_55638195_I</td>\n",
       "    </tr>\n",
       "    <tr>\n",
       "      <th>3</th>\n",
       "      <td>0.033672</td>\n",
       "      <td>0.000000</td>\n",
       "      <td>GeneID:65217</td>\n",
       "      <td>abnormal_neuron_morphology</td>\n",
       "      <td>cellular_morphology</td>\n",
       "      <td>chr10_55638195_I</td>\n",
       "    </tr>\n",
       "    <tr>\n",
       "      <th>4</th>\n",
       "      <td>0.033672</td>\n",
       "      <td>0.000000</td>\n",
       "      <td>GeneID:65217</td>\n",
       "      <td>abnormal_nervous_system_morphology</td>\n",
       "      <td>region_tract_morphology</td>\n",
       "      <td>chr10_55638195_I</td>\n",
       "    </tr>\n",
       "    <tr>\n",
       "      <th>5</th>\n",
       "      <td>0.033672</td>\n",
       "      <td>0.000000</td>\n",
       "      <td>GeneID:65217</td>\n",
       "      <td>abnormal_somatic_nervous_system_morphology</td>\n",
       "      <td>region_tract_morphology</td>\n",
       "      <td>chr10_55638195_I</td>\n",
       "    </tr>\n",
       "    <tr>\n",
       "      <th>6</th>\n",
       "      <td>0.068889</td>\n",
       "      <td>0.075778</td>\n",
       "      <td>GeneID:65217</td>\n",
       "      <td>abnormal_motor_capabilities/coordination/movement</td>\n",
       "      <td>behaviour</td>\n",
       "      <td>chr10_55949264_D</td>\n",
       "    </tr>\n",
       "    <tr>\n",
       "      <th>7</th>\n",
       "      <td>0.068889</td>\n",
       "      <td>0.075778</td>\n",
       "      <td>GeneID:65217</td>\n",
       "      <td>abnormal_sensory_capabilities/reflexes/nocicep...</td>\n",
       "      <td>behaviour</td>\n",
       "      <td>chr10_55949264_D</td>\n",
       "    </tr>\n",
       "    <tr>\n",
       "      <th>8</th>\n",
       "      <td>0.068889</td>\n",
       "      <td>0.075778</td>\n",
       "      <td>GeneID:65217</td>\n",
       "      <td>abnormal_neuron_morphology</td>\n",
       "      <td>cellular_morphology</td>\n",
       "      <td>chr10_55949264_D</td>\n",
       "    </tr>\n",
       "    <tr>\n",
       "      <th>9</th>\n",
       "      <td>0.068889</td>\n",
       "      <td>0.075778</td>\n",
       "      <td>GeneID:65217</td>\n",
       "      <td>abnormal_nervous_system_morphology</td>\n",
       "      <td>region_tract_morphology</td>\n",
       "      <td>chr10_55949264_D</td>\n",
       "    </tr>\n",
       "  </tbody>\n",
       "</table></font>"
      ],
      "text/plain": [
       "<IPython.core.display.HTML object>"
      ]
     },
     "execution_count": 18,
     "metadata": {},
     "output_type": "execute_result"
    }
   ],
   "source": [
    "from IPython.display import HTML\n",
    "import pandas as pd\n",
    "\n",
    "df = pd.read_csv('sample_geneset_dataframe.csv')\n",
    "df_html = df.head(10).to_html()\n",
    "HTML('<font size=1.5>'+df_html+'</font>')"
   ]
  },
  {
   "cell_type": "markdown",
   "metadata": {
    "slideshow": {
     "slide_type": "slide"
    }
   },
   "source": [
    "## Database style Group By"
   ]
  },
  {
   "cell_type": "code",
   "execution_count": 26,
   "metadata": {
    "collapsed": false
   },
   "outputs": [
    {
     "data": {
      "text/html": [
       "<div>\n",
       "<table border=\"1\" class=\"dataframe\">\n",
       "  <thead>\n",
       "    <tr style=\"text-align: right;\">\n",
       "      <th>#ann</th>\n",
       "      <th>5HT_2C</th>\n",
       "      <th>ARC</th>\n",
       "      <th>CYFIP1_all</th>\n",
       "      <th>Cav2_channels</th>\n",
       "      <th>Chrna7</th>\n",
       "    </tr>\n",
       "  </thead>\n",
       "  <tbody>\n",
       "    <tr>\n",
       "      <th>Sample_1</th>\n",
       "      <td>-0.025904</td>\n",
       "      <td>-0.003261</td>\n",
       "      <td>-0.000773</td>\n",
       "      <td>-0.001129</td>\n",
       "      <td>-0.017026</td>\n",
       "    </tr>\n",
       "    <tr>\n",
       "      <th>Sample_2</th>\n",
       "      <td>-0.027305</td>\n",
       "      <td>0.007303</td>\n",
       "      <td>-0.005915</td>\n",
       "      <td>0.002647</td>\n",
       "      <td>-0.012003</td>\n",
       "    </tr>\n",
       "  </tbody>\n",
       "</table>\n",
       "</div>"
      ],
      "text/plain": [
       "#ann        5HT_2C       ARC  CYFIP1_all  Cav2_channels    Chrna7\n",
       "Sample_1 -0.025904 -0.003261   -0.000773      -0.001129 -0.017026\n",
       "Sample_2 -0.027305  0.007303   -0.005915       0.002647 -0.012003"
      ]
     },
     "execution_count": 26,
     "metadata": {},
     "output_type": "execute_result"
    }
   ],
   "source": [
    "df.drop_duplicates(['#ann', 'SNP'], inplace=True)\n",
    "dfg = df.groupby('#ann').mean()\n",
    "dfg.head().T"
   ]
  },
  {
   "cell_type": "markdown",
   "metadata": {
    "slideshow": {
     "slide_type": "slide"
    }
   },
   "source": [
    "## Results\n",
    "### Using `LinearSVC` with a Lasso penalty\n",
    "#### Including Multiple Regression Analysis\n",
    "\n",
    "<img src=\"images/gene_total_separate_set_scores.pdf\" style=\"width: 700px\";>"
   ]
  },
  {
   "cell_type": "markdown",
   "metadata": {
    "slideshow": {
     "slide_type": "slide"
    }
   },
   "source": [
    "## Gene Set Coefficients\n",
    "\n",
    "<img src=\"images/gene_total_separate_set_scores_coefs.pdf\" style=\"width: 900px\";>\n",
    "\n",
    "* Support findings from MAGMA software (de Leeuw et al. 2015)"
   ]
  },
  {
   "cell_type": "markdown",
   "metadata": {
    "slideshow": {
     "slide_type": "slide"
    }
   },
   "source": [
    "## Non linear kernels:\n",
    "\n",
    "<img src=\"images/gene_total_separate_set_scores_non_linear.pdf\" style=\"width: 900px\";>"
   ]
  },
  {
   "cell_type": "markdown",
   "metadata": {
    "slideshow": {
     "slide_type": "slide"
    }
   },
   "source": [
    "### The Real Scientific Method\n",
    "\n",
    "<img src=\"images/real_method.png\" style=\"width: 600px\";>"
   ]
  },
  {
   "cell_type": "markdown",
   "metadata": {
    "slideshow": {
     "slide_type": "slide"
    }
   },
   "source": [
    "## Conclusions:\n",
    "\n",
    "* SVMs unfortunately don't improve on performance\n",
    "* There _might_ be some interactions in sub-threshold SNPs\n",
    "* Gene set analysis supports current research and other techniques"
   ]
  },
  {
   "cell_type": "markdown",
   "metadata": {
    "slideshow": {
     "slide_type": "slide"
    }
   },
   "source": [
    "## Acknowledgements:\n",
    "\n",
    "* Prof. Sir. Mike Owen\n",
    "* Dr. Valentina Escott-Price\n",
    "* Dr. Andrew Pocklington\n",
    "* Dr. Andreas Artemiou\n",
    "\n",
    "## Thanks a lot for listening!\n",
    " \n",
    "\n",
    "&nbsp;\n",
    "\n",
    "<img src=\"images/wellcome_trust.jpg\" style=\"width: 400px\";>"
   ]
  }
 ],
 "metadata": {
  "celltoolbar": "Slideshow",
  "kernelspec": {
   "display_name": "Python 3",
   "language": "python",
   "name": "python3"
  },
  "language_info": {
   "codemirror_mode": {
    "name": "ipython",
    "version": 3
   },
   "file_extension": ".py",
   "mimetype": "text/x-python",
   "name": "python",
   "nbconvert_exporter": "python",
   "pygments_lexer": "ipython3",
   "version": "3.5.1"
  }
 },
 "nbformat": 4,
 "nbformat_minor": 0
}
